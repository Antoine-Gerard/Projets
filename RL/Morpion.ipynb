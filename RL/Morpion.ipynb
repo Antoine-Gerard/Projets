{
 "cells": [
  {
   "cell_type": "markdown",
   "metadata": {},
   "source": [
    "# Import des bibliothèques nécessaires"
   ]
  },
  {
   "cell_type": "code",
   "execution_count": 1,
   "metadata": {},
   "outputs": [],
   "source": [
    "from Morpion import Morpion\n",
    "from MorpionPlayer import MorpionPlayer\n",
    "import random\n",
    "import itertools"
   ]
  },
  {
   "cell_type": "markdown",
   "metadata": {},
   "source": [
    "# Définition d'une partie"
   ]
  },
  {
   "cell_type": "markdown",
   "metadata": {},
   "source": [
    "Ici nous allons définir une méthode permettant de simuler une partie de morpion. Cette fonction prend en entrée deux joueurs, et un paramètre booléen permettant de définir si nous souhaitons entraîner ou non les agents. Voici alors la définition de la fonction `play` "
   ]
  },
  {
   "cell_type": "code",
   "execution_count": 2,
   "metadata": {},
   "outputs": [],
   "source": [
    "def play(game, p1, p2, train=True):\n",
    "    board = game.reset()\n",
    "    players = [p1, p2]\n",
    "    \n",
    "    random.shuffle(players)\n",
    "    p = 0\n",
    "    \n",
    "    while game.is_finished() is False:\n",
    "        if players[p%2].is_human:\n",
    "            game.display()\n",
    "            \n",
    "        action = players[p%2].play(game)\n",
    "        sp = game.step(action, players[p%2].player)\n",
    "        \n",
    "        players[p%2].add_state(sp)\n",
    "        p += 1\n",
    "        \n",
    "    game.give_reward(train = train)"
   ]
  },
  {
   "cell_type": "markdown",
   "metadata": {},
   "source": [
    "Dans cette fonction, nous commençons par remettre à 0 le jeu avec un `game.reset()`. Ensuite, tant que le jeu n'est pas fini chaque joueur joue à tour de rôle. Une fois le jeu fini, nous attribuons les **récompenses** , et rétro-propageons les valeurs de la **fonction valeur** grâce à la fonction `give_reward()`"
   ]
  },
  {
   "cell_type": "markdown",
   "metadata": {},
   "source": [
    "# Entraînement de deux agents"
   ]
  },
  {
   "cell_type": "markdown",
   "metadata": {},
   "source": [
    "## Déclaration des agents"
   ]
  },
  {
   "cell_type": "code",
   "execution_count": 3,
   "metadata": {},
   "outputs": [],
   "source": [
    "p1 = MorpionPlayer(is_human = False,\n",
    "                   player = 1)\n",
    "\n",
    "p2 = MorpionPlayer(is_human = False,\n",
    "                   player = 2)"
   ]
  },
  {
   "cell_type": "markdown",
   "metadata": {},
   "source": [
    "## Déclaration du jeu"
   ]
  },
  {
   "cell_type": "code",
   "execution_count": 4,
   "metadata": {},
   "outputs": [],
   "source": [
    "game = Morpion(p1 = p1, p2 = p2)"
   ]
  },
  {
   "cell_type": "markdown",
   "metadata": {},
   "source": [
    "## Entraînement"
   ]
  },
  {
   "cell_type": "markdown",
   "metadata": {},
   "source": [
    "Pour l'entrainement des deux agents nous allons jouer 50000 parties, et mettre à jour la **fonction valeur** à la fin de chaque partie. De plus, nous baisserons la valeur de $\\epsilon$ toutes les 1000 parties, afin que l'agent privilégie **l'exploitation** face à **l'exploration** au fil des parties jouées. "
   ]
  },
  {
   "cell_type": "code",
   "execution_count": 5,
   "metadata": {},
   "outputs": [
    {
     "name": "stdout",
     "output_type": "stream",
     "text": [
      "Iteration 0\n",
      "Iteration 1000\n",
      "Iteration 2000\n",
      "Iteration 3000\n",
      "Iteration 4000\n",
      "Iteration 5000\n",
      "Iteration 6000\n",
      "Iteration 7000\n",
      "Iteration 8000\n",
      "Iteration 9000\n",
      "Iteration 10000\n",
      "Iteration 11000\n",
      "Iteration 12000\n",
      "Iteration 13000\n",
      "Iteration 14000\n",
      "Iteration 15000\n",
      "Iteration 16000\n",
      "Iteration 17000\n",
      "Iteration 18000\n",
      "Iteration 19000\n",
      "Iteration 20000\n",
      "Iteration 21000\n",
      "Iteration 22000\n",
      "Iteration 23000\n",
      "Iteration 24000\n",
      "Iteration 25000\n",
      "Iteration 26000\n",
      "Iteration 27000\n",
      "Iteration 28000\n",
      "Iteration 29000\n",
      "Iteration 30000\n",
      "Iteration 31000\n",
      "Iteration 32000\n",
      "Iteration 33000\n",
      "Iteration 34000\n",
      "Iteration 35000\n",
      "Iteration 36000\n",
      "Iteration 37000\n",
      "Iteration 38000\n",
      "Iteration 39000\n",
      "Iteration 40000\n",
      "Iteration 41000\n",
      "Iteration 42000\n",
      "Iteration 43000\n",
      "Iteration 44000\n",
      "Iteration 45000\n",
      "Iteration 46000\n",
      "Iteration 47000\n",
      "Iteration 48000\n",
      "Iteration 49000\n"
     ]
    }
   ],
   "source": [
    "for i in range(50000):\n",
    "    if i%1000 == 0:\n",
    "        p1.eps = max(p1.eps * 0.8, 0.05)\n",
    "        p2.eps = max(p2.eps * 0.8, 0.05)\n",
    "        print(\"Iteration {}\".format(i))\n",
    "        \n",
    "    play(game, p1, p2)"
   ]
  },
  {
   "cell_type": "markdown",
   "metadata": {},
   "source": [
    "# Agent entraîné contre agent aléatoire"
   ]
  },
  {
   "cell_type": "markdown",
   "metadata": {},
   "source": [
    "Dans cette section, nous allons voir comment notre agent entraîné se comporte face à un agent aléatoire (i.e. non entraîné). "
   ]
  },
  {
   "cell_type": "code",
   "execution_count": 6,
   "metadata": {},
   "outputs": [],
   "source": [
    "p1.reset_stat()\n",
    "p2.reset_stat()"
   ]
  },
  {
   "cell_type": "code",
   "execution_count": 7,
   "metadata": {},
   "outputs": [],
   "source": [
    "random_player = MorpionPlayer(is_human = False, player = 2)"
   ]
  },
  {
   "cell_type": "code",
   "execution_count": 8,
   "metadata": {},
   "outputs": [],
   "source": [
    "game = Morpion(p1 = p1, p2 = random_player)"
   ]
  },
  {
   "cell_type": "code",
   "execution_count": 9,
   "metadata": {},
   "outputs": [],
   "source": [
    "for _ in range(10000):\n",
    "    play(game, p1, random_player, train = False)"
   ]
  },
  {
   "cell_type": "code",
   "execution_count": 10,
   "metadata": {},
   "outputs": [
    {
     "name": "stdout",
     "output_type": "stream",
     "text": [
      "p1 wins 9121/10000\n",
      "p1 did draw 735/10000\n",
      "p1 loses 144/10000\n",
      "p1 win rate: 91.21%\n"
     ]
    }
   ],
   "source": [
    "print(\"p1 wins {}/10000\".format(p1.win))\n",
    "print(\"p1 did draw {}/10000\".format(p1.draw))\n",
    "print(\"p1 loses {}/10000\".format(p1.lose))\n",
    "print(\"p1 win rate: {}%\".format(100 * p1.win / (p1.win + p1.lose + p1.draw)))"
   ]
  },
  {
   "cell_type": "markdown",
   "metadata": {},
   "source": [
    "# Agent entraîné contre humain"
   ]
  },
  {
   "cell_type": "markdown",
   "metadata": {},
   "source": [
    "Dans cette section, vous pouvez essayer de jouer contre l'agent entraîné à jouer au morpion. Pour cela, il vous suffira d'entrer le numéro de la colonne (entre 0 et 2), et le numéro de ligne (entre 0 et 2) où vous souhaitez placer votre symbole. "
   ]
  },
  {
   "cell_type": "code",
   "execution_count": 11,
   "metadata": {},
   "outputs": [],
   "source": [
    "human = MorpionPlayer(is_human = True, player = 2)\n",
    "game = Morpion(p1 = p1, p2 = human)"
   ]
  },
  {
   "cell_type": "code",
   "execution_count": 16,
   "metadata": {
    "scrolled": false
   },
   "outputs": [
    {
     "name": "stdout",
     "output_type": "stream",
     "text": [
      "[['-' '-' '-']\n",
      " ['-' '-' '-']\n",
      " ['-' '-' '-']]\n",
      "Partie interrompue\n"
     ]
    }
   ],
   "source": [
    "try:\n",
    "    while True:\n",
    "        play(game, p1, human, train = False)\n",
    "except KeyboardInterrupt:\n",
    "    print(\"Partie interrompue\")"
   ]
  },
  {
   "cell_type": "markdown",
   "metadata": {},
   "source": [
    "Pour interrompre le noyau python, et arrêter la partie en cours, tapez deux fois sur la touche \"i\". "
   ]
  },
  {
   "cell_type": "code",
   "execution_count": null,
   "metadata": {},
   "outputs": [],
   "source": []
  }
 ],
 "metadata": {
  "kernelspec": {
   "display_name": "Python 3",
   "language": "python",
   "name": "python3"
  },
  "language_info": {
   "codemirror_mode": {
    "name": "ipython",
    "version": 3
   },
   "file_extension": ".py",
   "mimetype": "text/x-python",
   "name": "python",
   "nbconvert_exporter": "python",
   "pygments_lexer": "ipython3",
   "version": "3.8.2"
  }
 },
 "nbformat": 4,
 "nbformat_minor": 4
}
